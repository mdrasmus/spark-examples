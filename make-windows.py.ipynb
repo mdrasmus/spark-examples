{
 "cells": [
  {
   "cell_type": "code",
   "execution_count": 12,
   "metadata": {
    "collapsed": true
   },
   "outputs": [],
   "source": [
    "comp = {\n",
    "    'A': 'T',\n",
    "    'T': 'A',\n",
    "    'C': 'G',\n",
    "    'G': 'C',\n",
    "}\n",
    "\n",
    "def revcomp(seq):\n",
    "    return ''.join(comp[a] for a in reversed(seq))"
   ]
  },
  {
   "cell_type": "code",
   "execution_count": null,
   "metadata": {
    "collapsed": false
   },
   "outputs": [],
   "source": [
    "%%time\n",
    "\n",
    "WINDOW = 20\n",
    "STEP = 10000\n",
    "\n",
    "with open('hg19.k20.windows', 'w') as out:\n",
    "    i = 0\n",
    "    with open('../hg19/hg19.out') as infile:\n",
    "        while True:\n",
    "            i += STEP\n",
    "            infile.seek(i)\n",
    "            text = infile.read(WINDOW).upper()\n",
    "            if not text:\n",
    "                break\n",
    "            if 'N' in text:\n",
    "                continue\n",
    "            print >>out, ','.join(map(str, [i, text, 'H']))\n",
    "            print >>out, ','.join(map(str, [i, revcomp(text), 'H']))"
   ]
  },
  {
   "cell_type": "code",
   "execution_count": null,
   "metadata": {
    "collapsed": true
   },
   "outputs": [],
   "source": [
    "with open('mm10.k20.windows', 'w') as out:\n",
    "    i = 10000000\n",
    "    with open('../mm10/mm10.out') as infile:\n",
    "        infile.seek(i)\n",
    "        mouse = infile.read(int(1e6))\n",
    "    \n",
    "    for j in range(len(mouse) - WINDOW):\n",
    "        text = mouse[j:j+WINDOW]\n",
    "        if 'N' in text:\n",
    "            continue\n",
    "        print >>out, ','.join(map(str, [i + j, text, 'M']))\n",
    "        "
   ]
  },
  {
   "cell_type": "code",
   "execution_count": 18,
   "metadata": {
    "collapsed": false
   },
   "outputs": [
    {
     "data": {
      "text/plain": [
       "37.5"
      ]
     },
     "execution_count": 18,
     "metadata": {},
     "output_type": "execute_result"
    }
   ],
   "source": [
    "15 * (9e9 / 1e6) / 60 / 60"
   ]
  }
 ],
 "metadata": {
  "kernelspec": {
   "display_name": "Python 2",
   "language": "python",
   "name": "python2"
  },
  "language_info": {
   "codemirror_mode": {
    "name": "ipython",
    "version": 2
   },
   "file_extension": ".py",
   "mimetype": "text/x-python",
   "name": "python",
   "nbconvert_exporter": "python",
   "pygments_lexer": "ipython2",
   "version": "2.7.12"
  }
 },
 "nbformat": 4,
 "nbformat_minor": 0
}
