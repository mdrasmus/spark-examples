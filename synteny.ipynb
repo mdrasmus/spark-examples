{
 "cells": [
  {
   "cell_type": "code",
   "execution_count": 41,
   "metadata": {
    "collapsed": false
   },
   "outputs": [
    {
     "name": "stderr",
     "output_type": "stream",
     "text": [
      "/opt/conda/lib/python3.5/site-packages/matplotlib/font_manager.py:273: UserWarning: Matplotlib is building the font cache using fc-list. This may take a moment.\n",
      "  warnings.warn('Matplotlib is building the font cache using fc-list. This may take a moment.')\n",
      "/opt/conda/lib/python3.5/site-packages/matplotlib/font_manager.py:273: UserWarning: Matplotlib is building the font cache using fc-list. This may take a moment.\n",
      "  warnings.warn('Matplotlib is building the font cache using fc-list. This may take a moment.')\n"
     ]
    }
   ],
   "source": [
    "from datascience import *\n",
    "from datascience.predicates import are\n",
    "import numpy as np\n",
    "import matplotlib\n",
    "matplotlib.use('Agg', warn=False)\n",
    "%matplotlib inline\n",
    "import matplotlib.pyplot as plots\n",
    "plots.style.use('fivethirtyeight')\n",
    "import warnings\n",
    "warnings.simplefilter(action=\"ignore\", category=FutureWarning)"
   ]
  },
  {
   "cell_type": "code",
   "execution_count": 21,
   "metadata": {
    "collapsed": true
   },
   "outputs": [],
   "source": [
    "import pyspark\n",
    "sc = pyspark.SparkContext('local[*]')"
   ]
  },
  {
   "cell_type": "code",
   "execution_count": 33,
   "metadata": {
    "collapsed": false
   },
   "outputs": [],
   "source": [
    "THRESHOLD = 0.9\n",
    "WINDOW = 10"
   ]
  },
  {
   "cell_type": "code",
   "execution_count": 3,
   "metadata": {
    "collapsed": true
   },
   "outputs": [],
   "source": [
    "dna = \"ACGT\"\n",
    "\n",
    "comp = {\n",
    "    'A': 'T',\n",
    "    'T': 'A',\n",
    "    'C': 'G',\n",
    "    'G': 'C',\n",
    "}\n",
    "\n",
    "def revcomp(seq):\n",
    "    return ''.join(comp[a] for a in reversed(seq))\n",
    "\n",
    "def make_seq(k):\n",
    "    return ''.join(dna[randint(0, 3)] for i in range(k))\n",
    "\n",
    "def perc_id(s1, s2):\n",
    "    assert len(s1) == len(s2)\n",
    "    matches = sum(\n",
    "        1\n",
    "        for i in range(len(s1))\n",
    "        if s1[i] == s2[i]\n",
    "    )\n",
    "    return matches / float(len(s1))\n",
    "\n",
    "def calc_synteny(s1, s2, k, threshold):\n",
    "    mat = []\n",
    "    for i in range(len(s1) - k):\n",
    "        for j in range(len(s2) - k):\n",
    "            window1 = s1[i:i + k]\n",
    "            window2 = s2[j:j + k]\n",
    "            score1 = perc_id(window1, window2)\n",
    "            score2 = perc_id(window1, revcomp(window2))\n",
    "            max_score = max(score1, score2)\n",
    "            if max_score > threshold:\n",
    "                mat.append((i, j, max_score))\n",
    "    return mat"
   ]
  },
  {
   "cell_type": "code",
   "execution_count": 38,
   "metadata": {
    "collapsed": false
   },
   "outputs": [],
   "source": [
    "def calc_match(row):\n",
    "    (i, s1), (j, s2) = row\n",
    "    score1 = perc_id(s1, s2)\n",
    "    score2 = perc_id(s1, revcomp(s2))\n",
    "    max_score = max(score1, score2)\n",
    "    \n",
    "    return i, j, max_score"
   ]
  },
  {
   "cell_type": "code",
   "execution_count": 13,
   "metadata": {
    "collapsed": false,
    "scrolled": true
   },
   "outputs": [
    {
     "data": {
      "text/plain": [
       "'CCGCAAAACTAGCAACCAGGATGGGGGCGGTGCGAGCACGTACAATCGTGTGAACAGTTTCTCCAGGCCAGGGGCCAAATCGAAAATACCAGCAGCCTAAGACGCACAGCAAAGAGTTATAGCGGTGATTCGCCTCTTTCACCCTGTCACGGCGAGGTTATACTGTACGTGACGCTACAAGAGGGACTCGGACACTCCTCCACTCGTACCATGAGGTGCGTTCCTTCGACGCGCTCTCTCGCCATAACGCGCCTGTTACTGTGCGTCCTGGGACTAGGCTGCTCGAACGGACAAAACCCCCATTAAACCAACCCCTGCAAATGGTCGCATATGTAATGGGTTATTCCATATTTGCGGAACTACCAACAGAGTTAGATGCCGTGATATCAGACTGACATGGTCGCTCGAGATCGGTAAAGCCTTAATATCATTTGCCGGTTGTGTGAGGGAAGACTATACGATACTGACGCCAAAGCATTAAGCTACACGAGGTTTCCTCTGTCCGGGTAGTTACCAATATGACATTTTCTGCAACTGTATGCTGCACGCAGGGACATAGGGTGAGTGACATACTGTGACCCACTGGCCTTATCAGGTAACGGGTAGTCCGTAGCGGTAGGGTGAACAGACCCTAATCGAGACAGCATAGAACGAACACATCCGCCCGTCATCCAAGTTTTTCTGAATCCTTGAATAGCCATCAGGCTCGCCTGGGAACGTTTCCTCGAGAAACATCTTGTAAGGGACCTAGGAAGATTAGTTCTGGCAAAAGAGGTTCTAAGAAAATAGGGAGACGTGGAGACTGTATTCCCAGTACTCTATAGTACACATAACGGCGAATTATAAGTTCTGTGCGATGGTGTGATCTCGTCTTGCCCATGCCGAGCACAGCTGAGAGGACCGTCCGTCGAACCTCCACACGTATCATAGGCGCTGGTTGCATATACGCAAAGAAAGAGCGGACCTGAAACCAACTCCAACGGTCGCACTCATATAGAGTCTTTGCTAATTGGGATGGAAAATAAGTGACCCGGATCGGTTTGTTCAATGAGGACTGTTCCGCGACTCCCGTGGGTGTTTCGTGCCCCAAATGCGAACAGTTAAAATGACATTCCATAATAAGGACGTACTTATTTCCATTGCTTCCAACGCCGAGCGATATCTCGAAGCGAGGATTGTACCGCATCTAGGCGGTTATATGGCGATATTTCACCTAAATAACTCCCTCACCCCTAGTCATTGAGGGCTGCTGCCTTGGGACTTCACATAGATACGACTAGAAGACTTGAATGTAACGTGCGTATACGGTCCGCGGGACCCTTGAGTACCAAGGTCATATGTATTAGCTTCCCTCAGCTGCAACTGCTCCGTAGGGCGTGCAATCCATCCTCCTACAAGAACCTAGTTGAGCAACGTGTTATGAAAGCGTACTTTCTTTGGGTCCGGAGATCGTCGGAATGGCGAGCCAGTTCAAGCGGACTGAGTATACTAGCGACAAAAGGGAGTTGTTCGTGTAAAGAAATTAGTGAGCTAAGGATTGAAGCTTCATCTGCTGCTCCGATAGCGAGCGTTATGCGGAGCACTCCCCGAACAGGTGTGAAGTTTTACTCCTAACCTTTGAATCGAAAGCACATTATCATTGAACGTGTCTATCGGGCGCTTCTCCCATTCTCCAGCGGGCTAAGACCGTAAAACTCTTGCTCGAGGGGCCGCGAGCACCCACGGTGCGAAAAGCTCCTATTCCGGTCCTAAAATCTAGGGTGAGCCGGTACGCCGCTATTGGGGTCAAGAAGACGAGGATCTTGCCTTACTTTATTCCCCAAGTCCCTTACCGATCGATCTCATTGGGAGGAAACTTCTACCGTCTTCTGCTGTGTAGGTATAGACCTTGATCGCAAGAGCTACGCATTAGTCAAACACGTGAGTAGCCTATCGCACGGTTACCCCTGCATAGCGGCCCCCTTAAAACTCCCCCATTGCAGGCTAAATTCAACCTGTAC'"
      ]
     },
     "execution_count": 13,
     "metadata": {},
     "output_type": "execute_result"
    }
   ],
   "source": [
    "with open('synteny/data/s1.txt', 'r') as f:\n",
    "    genome1 = f.readline()\n",
    "with open('synteny/data/s2.txt', 'r') as f:\n",
    "    genome2 = f.readline()\n",
    "genome1"
   ]
  },
  {
   "cell_type": "code",
   "execution_count": 64,
   "metadata": {
    "collapsed": false
   },
   "outputs": [
    {
     "data": {
      "text/plain": [
       "(range(0, 1990), range(0, 1990))"
      ]
     },
     "execution_count": 64,
     "metadata": {},
     "output_type": "execute_result"
    }
   ],
   "source": [
    "i_range = range(len(genome1) - WINDOW)\n",
    "j_range = range(len(genome2) - WINDOW)\n",
    "i_range, j_range"
   ]
  },
  {
   "cell_type": "code",
   "execution_count": 66,
   "metadata": {
    "collapsed": false
   },
   "outputs": [],
   "source": [
    "windows1 = [(i, genome1[i:i + WINDOW]) for i in i_range]\n",
    "windows2 = [(j, genome2[j:j + WINDOW]) for j in j_range]"
   ]
  },
  {
   "cell_type": "code",
   "execution_count": 67,
   "metadata": {
    "collapsed": false,
    "scrolled": true
   },
   "outputs": [],
   "source": [
    "rdd1 = sc.parallelize(windows1)\n",
    "rdd2 = sc.parallelize(windows2)\n",
    "\n",
    "result = (rdd1.cartesian(rdd2)\n",
    "    .map(calc_match)\n",
    "    .filter(lambda row: row[2] >= THRESHOLD)\n",
    "    .collect()\n",
    ")"
   ]
  },
  {
   "cell_type": "code",
   "execution_count": 68,
   "metadata": {
    "collapsed": false
   },
   "outputs": [
    {
     "data": {
      "text/html": [
       "<table border=\"1\" class=\"dataframe\">\n",
       "    <thead>\n",
       "        <tr>\n",
       "            <th>i</th> <th>j</th> <th>score</th>\n",
       "        </tr>\n",
       "    </thead>\n",
       "    <tbody>\n",
       "        <tr>\n",
       "            <td>0   </td> <td>0   </td> <td>1    </td>\n",
       "        </tr>\n",
       "    </tbody>\n",
       "        <tr>\n",
       "            <td>1   </td> <td>1   </td> <td>1    </td>\n",
       "        </tr>\n",
       "    </tbody>\n",
       "        <tr>\n",
       "            <td>2   </td> <td>2   </td> <td>1    </td>\n",
       "        </tr>\n",
       "    </tbody>\n",
       "        <tr>\n",
       "            <td>3   </td> <td>3   </td> <td>1    </td>\n",
       "        </tr>\n",
       "    </tbody>\n",
       "        <tr>\n",
       "            <td>4   </td> <td>4   </td> <td>1    </td>\n",
       "        </tr>\n",
       "    </tbody>\n",
       "        <tr>\n",
       "            <td>5   </td> <td>5   </td> <td>1    </td>\n",
       "        </tr>\n",
       "    </tbody>\n",
       "        <tr>\n",
       "            <td>6   </td> <td>6   </td> <td>1    </td>\n",
       "        </tr>\n",
       "    </tbody>\n",
       "        <tr>\n",
       "            <td>6   </td> <td>357 </td> <td>0.9  </td>\n",
       "        </tr>\n",
       "    </tbody>\n",
       "        <tr>\n",
       "            <td>7   </td> <td>7   </td> <td>1    </td>\n",
       "        </tr>\n",
       "    </tbody>\n",
       "        <tr>\n",
       "            <td>8   </td> <td>8   </td> <td>1    </td>\n",
       "        </tr>\n",
       "    </tbody>\n",
       "</table>\n",
       "<p>... (2207 rows omitted)</p"
      ],
      "text/plain": [
       "i    | j    | score\n",
       "0    | 0    | 1\n",
       "1    | 1    | 1\n",
       "2    | 2    | 1\n",
       "3    | 3    | 1\n",
       "4    | 4    | 1\n",
       "5    | 5    | 1\n",
       "6    | 6    | 1\n",
       "6    | 357  | 0.9\n",
       "7    | 7    | 1\n",
       "8    | 8    | 1\n",
       "... (2207 rows omitted)"
      ]
     },
     "execution_count": 68,
     "metadata": {},
     "output_type": "execute_result"
    }
   ],
   "source": [
    "tabled = Table(['i', 'j', 'score']).with_rows(result)\n",
    "tabled"
   ]
  },
  {
   "cell_type": "code",
   "execution_count": 69,
   "metadata": {
    "collapsed": false
   },
   "outputs": [
    {
     "data": {
      "image/png": "[encoded data removed]",
      "text/plain": [
       "<matplotlib.figure.Figure at 0x7fd5f26f07f0>"
      ]
     },
     "metadata": {},
     "output_type": "display_data"
    }
   ],
   "source": [
    "tabled.select('i', 'j').sort('i').scatter('i')"
   ]
  },
  {
   "cell_type": "code",
   "execution_count": null,
   "metadata": {
    "collapsed": true
   },
   "outputs": [],
   "source": []
  }
 ],
 "metadata": {
  "kernelspec": {
   "display_name": "Python 3",
   "language": "python",
   "name": "python3"
  },
  "language_info": {
   "codemirror_mode": {
    "name": "ipython",
    "version": 3
   },
   "file_extension": ".py",
   "mimetype": "text/x-python",
   "name": "python",
   "nbconvert_exporter": "python",
   "pygments_lexer": "ipython3",
   "version": "3.5.2"
  }
 },
 "nbformat": 4,
 "nbformat_minor": 0
}
